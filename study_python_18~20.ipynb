{
 "cells": [
  {
   "cell_type": "markdown",
   "metadata": {},
   "source": [
    " # [Python Coding dojang #18~20](https://dojang.io/mod/page/view.php?id=919 \"코딩도장\")"
   ]
  },
  {
   "cell_type": "markdown",
   "metadata": {},
   "source": [
    "## 18. For & Continue statement\n",
    "### Example"
   ]
  },
  {
   "cell_type": "markdown",
   "metadata": {},
   "source": [
    "[ Break_while.py ]\n",
    "```python\n",
    "i = 0\n",
    "while True:    # 무한 루프\n",
    "    i += 1     # i를 1씩 증가시킴\n",
    "    print(i)\n",
    "    if i == 100:    # i가 100일 때\n",
    "        break       # 반복문을 끝냄. while의 제어흐름을 벗어남\n",
    "```"
   ]
  },
  {
   "cell_type": "markdown",
   "metadata": {},
   "source": [
    "[ Continue_for.py ]\n",
    "```python\n",
    "for i in range(1, 101):    # 1부터 100까지 증가하면서 100번 반복\n",
    "    if i % 2 != 0:         # i를 2로 나누었을 때 나머지가 0이 아니면 홀수\n",
    "        continue           # 아래 코드를 실행하지 않고 건너뜀\n",
    "    print(i)\n",
    "```"
   ]
  },
  {
   "cell_type": "markdown",
   "metadata": {},
   "source": [
    "### 심사문제\n",
    "표준 입력으로 정수 두 개가 입력됩니다<br/>(첫 번째 입력 값의 범위는 1~200, 두 번째 입력 값의 범위는 10~200이며 첫 번째 입력 값은 두 번째 입력 값보다 항상 작습니다).<br/> 다음 소스 코드를 완성하여 첫 번째 정수와 두 번째 정수 사이의 숫자 중 3으로 끝나지 않는 숫자가 출력되게 만드세요.<br/> 정답에 코드를 작성할 때는 while True:에 맞춰서 들여쓰기를 해주세요."
   ]
  },
  {
   "cell_type": "markdown",
   "metadata": {},
   "source": [
    "```python\n",
    "start, stop = map(int, input().split())\n",
    " \n",
    "i = start\n",
    " \n",
    "while True:\n",
    "    ______________ \n",
    "        ____________ \n",
    "        ____________\n",
    "    ______________ \n",
    "        ____________ \n",
    "  \n",
    "    print(i, end=' ')\n",
    "    i += 1\n",
    "    ```"
   ]
  },
  {
   "cell_type": "code",
   "execution_count": 1,
   "metadata": {},
   "outputs": [
    {
     "name": "stdout",
     "output_type": "stream",
     "text": [
      "10 50\n",
      "10 11 12 14 15 16 17 18 19 20 21 22 24 25 26 27 28 29 30 31 32 34 35 36 37 38 39 40 41 42 44 45 46 47 48 49 50 "
     ]
    }
   ],
   "source": [
    "start, stop = map(int, input().split())\n",
    "\n",
    "i = start\n",
    "\n",
    "while True:\n",
    "    if i%10==3:\n",
    "        i+=1\n",
    "        continue\n",
    "    if i == stop+1:\n",
    "        break\n",
    "\n",
    "    print(i, end=' ')\n",
    "    i += 1"
   ]
  },
  {
   "cell_type": "markdown",
   "metadata": {},
   "source": [
    "## 19. Statement For & while APPLICATION<br/> (print star pattern)\n",
    "### Example"
   ]
  },
  {
   "cell_type": "markdown",
   "metadata": {},
   "source": [
    "[ star_square.py ]\n",
    "\n",
    "```python\n",
    "for i in range(5):            # 5번 반복. 바깥쪽 루프는 세로 방향\n",
    "    for j in range(5):        # 5번 반복. 안쪽 루프는 가로 방향\n",
    "        print('*', end='')    # 별 출력. end에 ''를 지정하여 줄바꿈을 하지 않음\n",
    "    print()    # 가로 방향으로 별을 다 그린 뒤 다음 줄로 넘어감\n",
    "               # (print는 출력 후 기본적으로 다음 줄로 넘어감)\n",
    "               ```\n",
    "\n",
    "[ star_triangle.py ]\n",
    "\n",
    "```python\n",
    "for i in range(5):        # 5번 반복. 세로 방향\n",
    "    for j in range(5):    # 5번 반복. 가로 방향\n",
    "        if j <= i:                # 세로 방향 변수만큼\n",
    "            print('*', end='')    # 별 출력. end에 ''를 지정하여 줄바꿈을 하지 않음\n",
    "    print()    # 가로 방향으로 별을 다 그린 뒤 다음 줄로 넘어감\n",
    "               # (print는 출력 후 기본적으로 다음 줄로 넘어감)\n",
    "```"
   ]
  },
  {
   "cell_type": "markdown",
   "metadata": {},
   "source": [
    "### 심사문제\n",
    "표준 입력으로 삼각형의 높이가 입력됩니다.<br/> 입력된 높이만큼 산 모양으로 별을 출력하는 프로그램을 만드세요<br/>(input에서 안내 문자열은 출력하지 않아야 합니다). <br/>이때 출력 결과는 예제와 정확히 일치해야 합니다. 모양이 같더라도 공백이나 빈 줄이 더 들어가면 틀린 것으로 처리됩니다."
   ]
  },
  {
   "cell_type": "code",
   "execution_count": 12,
   "metadata": {},
   "outputs": [
    {
     "name": "stdout",
     "output_type": "stream",
     "text": [
      "10\n",
      "         *          \n",
      "        ***         \n",
      "       *****        \n",
      "      *******       \n",
      "     *********      \n",
      "    ***********     \n",
      "   *************    \n",
      "  ***************   \n",
      " *****************  \n",
      "******************* \n"
     ]
    }
   ],
   "source": [
    "t_height = int(input())\n",
    "for i in range(t_height):\n",
    "    for k in reversed(range(t_height)):\n",
    "        if k>i:\n",
    "            print(' ', end='')\n",
    "        else :\n",
    "            print('*', end='')\n",
    "    for j in range(t_height):\n",
    "        if i>j:\n",
    "            print('*', end='')\n",
    "        else :\n",
    "            print(' ', end='')\n",
    "    print()"
   ]
  },
  {
   "cell_type": "markdown",
   "metadata": {},
   "source": [
    "## 20. Statement For & while APPLICATION<br/> ( FizzBuzz )\n",
    "### What is FizzBuzz?\n",
    "FizzBuzz는 매우 간단한 프로그래밍 문제이며 규칙은 다음과 같습니다.\n",
    "* 1에서 100까지 출력\n",
    "* 3의 배수는 Fizz 출력\n",
    "* 5의 배수는 Buzz 출력\n",
    "* 3과 5의 공배수는 FizzBuzz 출력 <br/>\n",
    "\n",
    "즉, 1부터 100까지 숫자를 출력하면서 3의 배수는 숫자 대신 'Fizz',<br/> 5의 배수는 숫자 대신 'Buzz', 3과 5의 공배수는 숫자 대신 'FizzBuzz'를 출력하면 됩니다.\n",
    "### Example"
   ]
  },
  {
   "cell_type": "code",
   "execution_count": 17,
   "metadata": {},
   "outputs": [
    {
     "name": "stdout",
     "output_type": "stream",
     "text": [
      "1 2 Fizz 4 Buzz Fizz 7 8 Fizz Buzz 11 Fizz 13 14 Fizz 16 17 Fizz 19 Buzz Fizz 22 23 Fizz Buzz 26 Fizz 28 29 Fizz 31 32 Fizz 34 Buzz Fizz 37 38 Fizz Buzz 41 Fizz 43 44 Fizz 46 47 Fizz 49 Buzz Fizz 52 53 Fizz Buzz 56 Fizz 58 59 Fizz 61 62 Fizz 64 Buzz Fizz 67 68 Fizz Buzz 71 Fizz 73 74 Fizz 76 77 Fizz 79 Buzz Fizz 82 83 Fizz Buzz 86 Fizz 88 89 Fizz 91 92 Fizz 94 Buzz Fizz 97 98 Fizz Buzz "
     ]
    }
   ],
   "source": [
    "for i in range(1, 101):    # 1부터 100까지 100번 반복\n",
    "    if i % 3 == 0:         # 3의 배수일 때\n",
    "        print('Fizz',end=' ')      # Fizz 출력\n",
    "    elif i % 5 == 0:       # 5의 배수일 때\n",
    "        print('Buzz', end=' ' )      # Buzz 출력\n",
    "    else:\n",
    "        print(str(i), end=' ')           # 아무것도 해당되지 않을 때 숫자 출력"
   ]
  },
  {
   "cell_type": "markdown",
   "metadata": {},
   "source": [
    "### 심사문제\n",
    "표준 입력으로 정수 두 개가 입력됩니다 <br/>\n",
    "(첫 번째 입력 값의 범위는 1~1000, 두 번째 입력 값의 범위는 10~1000이며 첫 번째 입력 값은 두 번째 입력 값보다 항상 작습니다). <br/>\n",
    "첫 번째 정수부터 두 번째 정수까지 숫자를 출력하면서 5의 배수일 때는 'Fizz', <br/>\n",
    "7의 배수일 때는 'Buzz', 5와 7의 공배수일 때는 'FizzBuzz'를 출력하는 프로그램을 만드세요<br/>\n",
    "(input에서 안내 문자열은 출력하지 않아야 합니다)."
   ]
  },
  {
   "cell_type": "code",
   "execution_count": 22,
   "metadata": {},
   "outputs": [
    {
     "name": "stdout",
     "output_type": "stream",
     "text": [
      "35 40\n",
      "FizzBuzz\n",
      "36\n",
      "37\n",
      "38\n",
      "39\n",
      "Fizz\n"
     ]
    }
   ],
   "source": [
    "a,b = map(int,input().split())\n",
    "for i in range(a,b+1):\n",
    "    if i%35==0:\n",
    "        print('FizzBuzz')\n",
    "    elif i%7==0:\n",
    "        print('Buzz')\n",
    "    elif i%5==0:\n",
    "        print('Fizz')\n",
    "    else :\n",
    "        print(i)\n",
    "    "
   ]
  },
  {
   "cell_type": "code",
   "execution_count": null,
   "metadata": {},
   "outputs": [],
   "source": []
  }
 ],
 "metadata": {
  "kernelspec": {
   "display_name": "Python 3",
   "language": "python",
   "name": "python3"
  },
  "language_info": {
   "codemirror_mode": {
    "name": "ipython",
    "version": 3
   },
   "file_extension": ".py",
   "mimetype": "text/x-python",
   "name": "python",
   "nbconvert_exporter": "python",
   "pygments_lexer": "ipython3",
   "version": "3.6.5"
  }
 },
 "nbformat": 4,
 "nbformat_minor": 2
}
