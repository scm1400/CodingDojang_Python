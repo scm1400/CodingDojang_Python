{
 "cells": [
  {
   "cell_type": "markdown",
   "metadata": {},
   "source": [
    " # [Python Coding dojang #22~23](https://dojang.io/mod/page/view.php?id=919 \"코딩도장\")\n",
    " ## 22. List & Tuple"
   ]
  },
  {
   "cell_type": "markdown",
   "metadata": {},
   "source": [
    "### Create list\n",
    "\n",
    "```python\n",
    "\n",
    ">>> a = ['Hello', 10, 3.5, True]\n",
    ">>> a\n",
    "['Hello', 10, 3.5, True]\n",
    "\n",
    "```\n",
    "\n",
    "```python\n",
    ">>> a = list(range(10))\n",
    ">>> a\n",
    "[0, 1, 2, 3, 4, 5, 6, 7, 8, 9]\n",
    "\n",
    ">>> b = list(range(10, 0, -1))\n",
    ">>> b\n",
    "[10, 9, 8, 7, 6, 5, 4, 3, 2, 1]\n",
    ">>> c = list(range(5, 12))\n",
    ">>> c\n",
    "[5, 6, 7, 8, 9, 10, 11]\n",
    "```\n",
    "### List comprehension <br/>\n",
    "\n",
    "```python\n",
    ">>> a = [i for i in range(10)]        # 0부터 9까지 숫자를 생성하여 리스트 생성\n",
    ">>> a\n",
    "[0, 1, 2, 3, 4, 5, 6, 7, 8, 9]\n",
    ">>> b = list(i for i in range(10))    # 0부터 9까지 숫자를 생성하여 리스트 생성\n",
    ">>> b\n",
    "[0, 1, 2, 3, 4, 5, 6, 7, 8, 9]\n",
    "\n",
    "------------------------------------------------------\n",
    "\n",
    ">>> b = [i + 5 for i in range(10) if i % 2 == 1]    \n",
    "# 0~9 숫자 중 홀수에 5를 더하여 리스트 생성\n",
    ">>> b\n",
    "[6, 8, 10, 12, 14]\n",
    "\n",
    "```\n",
    "- Application : Create List of TimesTable \n",
    "```python\n",
    ">>> a = [i * j for j in range(2, 10) for i in range(1, 10)]\n",
    ">>> a\n",
    "[2, 4, 6, 8, 10, 12, 14, 16, 18, \n",
    " 3, 6, 9, 12, 15, 18, 21, 24, 27, \n",
    " 4, 8, 12, 16, 20, 24, 28, 32, 36, \n",
    " 5, 10, 15, 20, 25, 30, 35, 40, 45,\n",
    " 6, 12, 18, 24, 30, 36, 42, 48, 54, \n",
    " 7, 14, 21, 28, 35, 42, 49, 56, 63, \n",
    " 8, 16, 24, 32, 40, 48, 56, 64, 72, \n",
    " 9, 18, 27, 36, 45, 54, 63, 72, 81]\n",
    "```"
   ]
  },
  {
   "cell_type": "markdown",
   "metadata": {},
   "source": [
    "### List Slicing\n",
    "```python\n",
    ">>>a = [0, 10, 20, 30, 40, 50, 60, 70, 80, 90]\n",
    ">>> a[0:4]\n",
    "[0, 10, 20, 30]\n",
    "\n",
    ">>> a[0:10]\n",
    "[0, 10, 20, 30, 40, 50, 60, 70, 80, 90]\n",
    "```"
   ]
  },
  {
   "cell_type": "markdown",
   "metadata": {},
   "source": [
    "### Create Tuple <br/>\n",
    "\n",
    "** 튜플은 수정이 불가능하고 읽기만 가능! **\n",
    "\n",
    "* 튜플 = (값, 값, 값)\n",
    "* 튜플 = 값, 값, 값\n",
    "\n",
    "```python\n",
    ">>> a = (38, 21, 53, 62, 19)\n",
    ">>> a\n",
    "(38, 21, 53, 62, 19)\n",
    "```\n",
    "\n",
    "* 튜플 = tuple(리스트) 또는 튜플 = tuple(list())\n",
    "* 튜플 = tuple(range(횟수))\n",
    "* 튜플 = tuple(range(시작, 끝))\n",
    "* 튜플 = tuple(range(시작, 끝, 증가폭))\n",
    "\n",
    "```python\n",
    ">>> a = tuple([1, 2, 3])\n",
    ">>> a\n",
    "(1, 2, 3)\n",
    "\n",
    ">>> b = tuple(range(10))\n",
    ">>> b\n",
    "(0, 1, 2, 3, 4, 5, 6, 7, 8, 9)\n",
    "\n",
    ">>> d = tuple(range(5, 12))\n",
    ">>> d\n",
    "(5, 6, 7, 8, 9, 10, 11)\n",
    "\n",
    "```"
   ]
  },
  {
   "cell_type": "markdown",
   "metadata": {},
   "source": [
    "### 심사문제\n",
    "표준 입력으로 정수와 문자열이 각 줄에 입력되고 리스트 a, b의 특정 요소에 저장됩니다.<br/>\n",
    "다음 소스 코드를 완성하여 a는 두 번째 요소부터 네 번째 요소까지, b는 네 번째 요소부터 마지막 요소까지 출력되게 만드세요.<br/> 출력 결과는 리스트 형태여야 합니다."
   ]
  },
  {
   "cell_type": "markdown",
   "metadata": {},
   "source": [
    "``` python\n",
    "a = input().split()\n",
    "b = list(map(int, input().split()))\n",
    " \n",
    "_____________\n",
    "____________\n",
    "```"
   ]
  },
  {
   "cell_type": "code",
   "execution_count": 5,
   "metadata": {},
   "outputs": [
    {
     "name": "stdout",
     "output_type": "stream",
     "text": [
      "a b c d e f g h\n",
      "1 2 3 4 5 6 7 8\n",
      "['b', 'c', 'd']\n",
      "[4, 5, 6, 7, 8]\n"
     ]
    }
   ],
   "source": [
    "a = input().split()\n",
    "b = list(map(int, input().split()))\n",
    "print(a[1:4])\n",
    "print(b[3:])"
   ]
  },
  {
   "cell_type": "markdown",
   "metadata": {},
   "source": [
    "## 23. Application : List & Tuple\n",
    "### Modifying Lists\n",
    "#### Modifying Methods\n",
    "- append()\n",
    "```python\n",
    ">>> a = [10, 20]\n",
    ">>> a.append([50, 60])\n",
    ">>> a\n",
    "[10, 20, [50, 60]]\n",
    "```\n",
    "- extend()\n",
    "``` python\n",
    ">>> a = [10]\n",
    ">>> a.extend([20, 30])\n",
    ">>> a\n",
    "[10, 20, 30]\n",
    "```\n",
    "- insert(index,x)\n",
    "``` python\n",
    ">>> a = [10, 20, 30]\n",
    ">>> a.insert(2, 500)\n",
    ">>> a\n",
    "[10, 20, 500, 30]\n",
    "```\n",
    "- remove(x)\n",
    "``` python\n",
    ">>> a = [10, 20, 30]\n",
    ">>> a.remove(20)\n",
    ">>> a\n",
    "[10, 30]\n",
    "```\n",
    "- pop()\n",
    "```python\n",
    ">>> a = [10, 20, 30]\n",
    ">>> a.pop()\n",
    "30\n",
    ">>> a\n",
    "[10, 20]\n",
    "```\n",
    "- index(x)\n",
    "```python\n",
    ">>> a = [10, 20, 30, 10, 25, 40]\n",
    ">>> a.index(20)\n",
    "1\n",
    "```\n",
    "- count(x)\n",
    "```python\n",
    ">>> a = [10, 20, 30, 10, 25, 40]\n",
    ">>> a.count(10)\n",
    "2\n",
    "```\n",
    "- reverse()\n",
    "```python\n",
    ">>> a = [10, 20, 30, 10, 25, 40]\n",
    ">>> a.reverse()\n",
    ">>> a\n",
    "[40, 25, 10, 30, 20, 10]\n",
    "```\n",
    "- sort()\n",
    "```python\n",
    ">>> a = [10, 20, 30, 10, 25, 40]\n",
    ">>> a.sort()\n",
    ">>> a\n",
    "[10, 10, 20, 25, 30, 40]\n",
    "```\n",
    "- clear()\n",
    "```python\n",
    ">>> a = [10, 20, 30]\n",
    ">>> a.clear()\n",
    ">>> a\n",
    "[]\n",
    "```"
   ]
  },
  {
   "cell_type": "markdown",
   "metadata": {},
   "source": [
    "### Array Calculating"
   ]
  },
  {
   "cell_type": "markdown",
   "metadata": {},
   "source": [
    "- array1 + array2\n",
    "``` python\n",
    ">>> a = [10, 20, 30]\n",
    ">>> b = [1, 2, 3]\n",
    ">>> c = a + b\n",
    ">>> c\n",
    "[10, 20, 30, 1, 2, 3]\n",
    "```\n",
    "- array * number\n",
    "```python\n",
    ">>> a = [10, 20, 30]\n",
    ">>> b = a * 3\n",
    ">>> b\n",
    "[10, 20, 30, 10, 20, 30, 10, 20, 30]\n",
    "```"
   ]
  },
  {
   "cell_type": "markdown",
   "metadata": {},
   "source": [
    "### Print List\n",
    "\n",
    "- printing value [ for & while statement ]\n",
    "```python\n",
    ">>> a = [38, 21, 53, 62, 19]\n",
    ">>> for i in range(len(a)):\n",
    "...     print(a[i])\n",
    "...\n",
    "38\n",
    "21\n",
    "53\n",
    "62\n",
    "```  \n",
    "<br/>\n",
    "```python\n",
    ">>> while i < len(a):\n",
    "...     print(a[i])\n",
    "...     i += 1\n",
    "...\n",
    "38\n",
    "21\n",
    "53\n",
    "```\n",
    "- printing both index and value [ enumerate(list) ]\n",
    "```python\n",
    ">>> a = [38, 21, 53, 62, 19]\n",
    ">>> for index, value in enumerate(a):\n",
    "...     print(index, value)\n",
    "0 38\n",
    "1 21\n",
    "2 53\n",
    "```"
   ]
  },
  {
   "cell_type": "markdown",
   "metadata": {},
   "source": [
    "### 심사문제\n",
    "표준 입력으로 정수 두 개가 입력됩니다<br/>\n",
    "(첫 번째 입력 값의 범위는 1~20, 두 번째 입력 값의 범위는 10~30이며<br/>첫 번째 입력 값은 두 번째 입력 값보다 항상 작습니다). <br/>\n",
    "첫 번째 정수부터 두 번째 정수까지를 지수로 하는 2의 거듭제곱 리스트를<br/> 출력하는 프로그램을 만드세요<br/>\n",
    "(input에서 안내 문자열은 출력하지 않아야 합니다).<br/> 단, 리스트의 두 번째 요소와 뒤에서 두 번째 요소는 삭제한 뒤 출력하세요.<br/>\n",
    "출력 결과는 리스트 형태라야 합니다."
   ]
  },
  {
   "cell_type": "code",
   "execution_count": 6,
   "metadata": {},
   "outputs": [
    {
     "name": "stdout",
     "output_type": "stream",
     "text": [
      "1 10\n",
      "[2, 8, 16, 32, 64, 128, 256, 1024]\n"
     ]
    }
   ],
   "source": [
    "a,b = map(int, input().split())\n",
    "c = [2 ** i for i in range(a,b+1) if i != a+1 and i != b-1]\n",
    "print (c)"
   ]
  },
  {
   "cell_type": "code",
   "execution_count": null,
   "metadata": {},
   "outputs": [],
   "source": []
  }
 ],
 "metadata": {
  "kernelspec": {
   "display_name": "Python 3",
   "language": "python",
   "name": "python3"
  },
  "language_info": {
   "codemirror_mode": {
    "name": "ipython",
    "version": 3
   },
   "file_extension": ".py",
   "mimetype": "text/x-python",
   "name": "python",
   "nbconvert_exporter": "python",
   "pygments_lexer": "ipython3",
   "version": "3.6.5"
  }
 },
 "nbformat": 4,
 "nbformat_minor": 2
}
