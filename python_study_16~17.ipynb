{
 "cells": [
  {
   "cell_type": "markdown",
   "metadata": {},
   "source": [
    " # [Python Coding dojang #16 ~17](https://dojang.io/mod/page/view.php?id=919 \"코딩도장\")"
   ]
  },
  {
   "cell_type": "markdown",
   "metadata": {},
   "source": [
    "## 16. For statement "
   ]
  },
  {
   "cell_type": "markdown",
   "metadata": {},
   "source": [
    "### 심사문제"
   ]
  },
  {
   "cell_type": "markdown",
   "metadata": {},
   "source": [
    "표준 입력으로 정수가 입력됩니다. 입력된 정수의 구구단을 출력하는 프로그램을 만드세요.<br/>(input에서 안내 문자열은 출력하지 않아야 합니다)<br/> 출력 형식은 숫자 * 숫자 = 숫자처럼 만들고 숫자와 *, = 사이는 공백을 한 칸 띄웁니다."
   ]
  },
  {
   "cell_type": "code",
   "execution_count": 10,
   "metadata": {},
   "outputs": [
    {
     "name": "stdout",
     "output_type": "stream",
     "text": [
      "숫자를 입력하세요: 6\n",
      "6 * 1 = 6\n",
      "6 * 2 = 12\n",
      "6 * 3 = 18\n",
      "6 * 4 = 24\n",
      "6 * 5 = 30\n",
      "6 * 6 = 36\n",
      "6 * 7 = 42\n",
      "6 * 8 = 48\n",
      "6 * 9 = 54\n"
     ]
    }
   ],
   "source": [
    "a = int(input('숫자를 입력하세요: '))\n",
    "for i in range(1,10):\n",
    "    print('%d * %d' %(a,i)  + ' = ' + str(a*i))"
   ]
  },
  {
   "cell_type": "markdown",
   "metadata": {},
   "source": [
    "## 17. While statement"
   ]
  },
  {
   "cell_type": "markdown",
   "metadata": {},
   "source": [
    "```python\n",
    "초기식\n",
    "while 조건식:\n",
    "     반복할 코드\n",
    "     변화식\n",
    "#↑ 들여쓰기 4칸\n",
    "```"
   ]
  },
  {
   "cell_type": "markdown",
   "metadata": {},
   "source": [
    "### Example\n",
    "```python\n",
    ">>> i = 0\n",
    ">>> while i < 100:\n",
    "...      print('Hello, world!')  # ← 들여쓰기 4칸\n",
    "...      i += 1 # ← 들여쓰기 4칸\n",
    "... # ← 빈 줄에서 엔터 키를 누름\n",
    "Hello, world!\n",
    "... (생략)\n",
    "Hello, world!\n",
    "Hello, world!\n",
    "Hello, world!\n",
    "```"
   ]
  },
  {
   "cell_type": "markdown",
   "metadata": {},
   "source": [
    "### 심사문제\n",
    "표준 입력으로 금액(정수)이 입력됩니다.<br/> 1회당 요금은 1,350원이고, 교통카드를 사용했을 때마다의 잔액을 각 줄에 출력하는 프로그램을 만드세요<br/>(input에서 안내 문자열은 출력하지 않아야 합니다).<br/> 단, 최초 금액은 출력하지 않아야 합니다. 그리고 잔액은 음수가 될 수 없으며 잔액이 부족하면 출력을 끝냅니다."
   ]
  },
  {
   "cell_type": "code",
   "execution_count": 15,
   "metadata": {},
   "outputs": [
    {
     "name": "stdout",
     "output_type": "stream",
     "text": [
      "금액: 5000\n",
      "3650\n",
      "2300\n",
      "950\n"
     ]
    }
   ],
   "source": [
    "a=int(input('금액: '))\n",
    "while a>=0:\n",
    "    a-=1350\n",
    "    if a<0:\n",
    "        break\n",
    "        \n",
    "    print(a)"
   ]
  },
  {
   "cell_type": "code",
   "execution_count": null,
   "metadata": {},
   "outputs": [],
   "source": []
  }
 ],
 "metadata": {
  "kernelspec": {
   "display_name": "Python 3",
   "language": "python",
   "name": "python3"
  },
  "language_info": {
   "codemirror_mode": {
    "name": "ipython",
    "version": 3
   },
   "file_extension": ".py",
   "mimetype": "text/x-python",
   "name": "python",
   "nbconvert_exporter": "python",
   "pygments_lexer": "ipython3",
   "version": "3.6.5"
  }
 },
 "nbformat": 4,
 "nbformat_minor": 2
}
